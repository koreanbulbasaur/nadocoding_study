{
 "cells": [
  {
   "attachments": {},
   "cell_type": "markdown",
   "metadata": {},
   "source": [
    "# 미니 프로젝트 : 반자동 문서 스캐너"
   ]
  },
  {
   "attachments": {},
   "cell_type": "markdown",
   "metadata": {},
   "source": [
    "## 마우스 이벤트 등록"
   ]
  },
  {
   "cell_type": "code",
   "execution_count": 7,
   "metadata": {},
   "outputs": [],
   "source": [
    "import cv2\n",
    "\n",
    "def mouse_handler(event, x, y, flags, param):\n",
    "    if event == cv2.EVENT_LBUTTONDOWN: # 마우스 왼쪽 버튼 down\n",
    "        print('left button down')\n",
    "        print(x, y)\n",
    "    elif event == cv2.EVENT_LBUTTONUP: # 마우스 왼쪽 버튼 up\n",
    "        print('left button up')\n",
    "    elif event == cv2.EVENT_LBUTTONDBLCLK: # 마우스 왼쪽 버튼 더블 클릭\n",
    "        print('left button Double Click')\n",
    "    elif event == cv2.EVENT_MOUSEMOVE: # 마우스 이동\n",
    "        print('Mouse Move')\n",
    "    elif event == cv2.EVENT_RBUTTONDOWN: # 마우스 오른쪽 버튼 down\n",
    "        print('Right Button Down')\n",
    "\n",
    "img = cv2.imread('../OpenCV/poker.jpg')\n",
    "\n",
    "# img 란 이름의 윈도우를 먼저 만들어두는 것. 여기에 마우스 이벤트를 처리하기 위한 핸들러 적용\n",
    "cv2.namedWindow('img')\n",
    "\n",
    "cv2.setMouseCallback('img', mouse_handler)\n",
    "\n",
    "cv2.imshow('img', img)\n",
    "cv2.waitKey(0)\n",
    "cv2.destroyAllWindows() "
   ]
  },
  {
   "attachments": {},
   "cell_type": "markdown",
   "metadata": {},
   "source": [
    "## 프로젝트"
   ]
  },
  {
   "cell_type": "code",
   "execution_count": 44,
   "metadata": {},
   "outputs": [],
   "source": [
    "import cv2\n",
    "import numpy as np\n",
    "\n",
    "src_img = cv2.imread('../OpenCV/poker.jpg')\n",
    "\n",
    "point_list = []\n",
    "\n",
    "pink = (255, 0, 255)\n",
    "tn = 3\n",
    "drawing = False # 선을 그릴지 여부\n",
    "\n",
    "def mouse_handler(event, x, y, flags, param):\n",
    "    global drawing\n",
    "\n",
    "    dst_img = src_img.copy()\n",
    "\n",
    "    if event == cv2.EVENT_LBUTTONDOWN: # 마우스 왼쪽 버튼 down\n",
    "        drawing = True # 선을 그리기 시작\n",
    "        point_list.append((x, y))\n",
    "\n",
    "    if drawing:\n",
    "        prev_point = None # 직선의 시작점\n",
    "        for point in point_list:\n",
    "            cv2.circle(dst_img, point, 5, pink, cv2.FILLED)\n",
    "            if prev_point:\n",
    "                cv2.line(dst_img, prev_point, point, pink, tn, cv2.LINE_AA)\n",
    "            prev_point = point\n",
    "\n",
    "        next_point = (x, y)\n",
    "        if len(point_list) == 4:\n",
    "            show_result()\n",
    "            next_point = point_list[0] # 첫번째 클릭한 지점\n",
    "        cv2.line(dst_img, prev_point, next_point, pink, tn, cv2.LINE_AA)\n",
    "\n",
    "    cv2.imshow('img', dst_img)\n",
    "\n",
    "def show_result():\n",
    "    w, h = 530, 710\n",
    "    src = np.float32(point_list)\n",
    "    dst = np.array([[0, 0], [w, 0], [w, h], [0, h]], dtype=np.float32)\n",
    "\n",
    "    matrix = cv2.getPerspectiveTransform(src, dst)\n",
    "    result = cv2.warpPerspective(src_img, matrix, (w, h))\n",
    "\n",
    "    cv2.imshow('result', result)\n",
    "\n",
    "cv2.namedWindow('img', cv2.WINDOW_NORMAL)\n",
    "cv2.setMouseCallback('img', mouse_handler)\n",
    "cv2.imshow('img', src_img)\n",
    "cv2.waitKey(0)\n",
    "cv2.destroyAllWindows() "
   ]
  }
 ],
 "metadata": {
  "kernelspec": {
   "display_name": "Python 3",
   "language": "python",
   "name": "python3"
  },
  "language_info": {
   "codemirror_mode": {
    "name": "ipython",
    "version": 3
   },
   "file_extension": ".py",
   "mimetype": "text/x-python",
   "name": "python",
   "nbconvert_exporter": "python",
   "pygments_lexer": "ipython3",
   "version": "3.11.3"
  },
  "orig_nbformat": 4
 },
 "nbformat": 4,
 "nbformat_minor": 2
}
