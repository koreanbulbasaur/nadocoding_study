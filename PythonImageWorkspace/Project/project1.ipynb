{
 "cells": [
  {
   "attachments": {},
   "cell_type": "markdown",
   "metadata": {},
   "source": [
    "# 프로젝트 : 얼굴을 인식하여 캐릭터 씌우기\n",
    "# Face Detection vs Face Recognition"
   ]
  },
  {
   "cell_type": "code",
   "execution_count": 6,
   "metadata": {},
   "outputs": [],
   "source": [
    "import cv2\n",
    "import mediapipe as mp\n",
    "\n",
    "# 얼굴을 찾고, 찾은 얼굴에 표시를 해주기 위한 변수 정의\n",
    "mp_face_detection = mp.solutions.face_detection # 얼굴 검출을 위한 face_detection 모듈을 사용\n",
    "mp_drawing = mp.solutions.drawing_utils # 얼굴의 특징을 그리기 위한 drawing_utils 모듈을 사용\n",
    "\n",
    "# 동영상 파일 열기\n",
    "video_file = 'man.mp4'\n",
    "cap = cv2.VideoCapture(video_file)\n",
    "\n",
    "# model_selection 촬영자가 5m 이내이면 0, 그 이상이면 1 (0으로 했는데 얼굴이 2개가 인식을 해서 1로 함)\n",
    "# min_detection_confidence 얼굴의 확신을 가지는 확률 : 높을 수록 사람 얼굴을 잘 인식함\n",
    "with mp_face_detection.FaceDetection(model_selection=1, min_detection_confidence=0.9) as face_detection:\n",
    "    while cap.isOpened():\n",
    "        success, image = cap.read()\n",
    "        if not success:\n",
    "            break\n",
    "\n",
    "        image.flags.writeable = False\n",
    "        image = cv2.cvtColor(image, cv2.COLOR_BGR2RGB)\n",
    "        results = face_detection.process(image)\n",
    "\n",
    "        image.flags.writeable = True\n",
    "        image = cv2.cvtColor(image, cv2.COLOR_RGB2BGR)\n",
    "\n",
    "        if results.detections:\n",
    "            for detection in results.detections:\n",
    "                # 얼굴에 있는 요소를 빨간점으로 표시\n",
    "                # mp_drawing.draw_detection(image, detection)\n",
    "\n",
    "                # 특정 위치 가져오기\n",
    "                keypoints = detection.location_data.relative_keypoints\n",
    "                right_eye = keypoints[0] # 오른쪽 눈\n",
    "                left_eye = keypoints[1] # 왼쪽 눈\n",
    "                nose_tip = keypoints[2] # 코 끝부분\n",
    "\n",
    "                h, w, _ = image.shape\n",
    "\n",
    "                # 이미지로부터 세로, 가로 크기 가져옴\n",
    "                right_eye = (int(right_eye.x * w), int(right_eye.y * h))\n",
    "                left_eye = (int(left_eye.x * w), int(left_eye.y * h))\n",
    "                nose_tip = (int(nose_tip.x * w), int(nose_tip.y * h))\n",
    "\n",
    "                # 양 눈에 동그라미 그리기\n",
    "                cv2.circle(image, right_eye, 50, (0, 0, 255), 10, cv2.LINE_AA)\n",
    "                cv2.circle(image, left_eye, 50, (255, 0, 0), 10, cv2.LINE_AA)\n",
    "                cv2.circle(image, nose_tip, 60, (0, 255, 255), 10, cv2.LINE_AA)\n",
    "\n",
    "        cv2.imshow('Face Detection', cv2.resize(image, None, fx=0.5, fy=0.5))\n",
    "\n",
    "        if cv2.waitKey(1) == ord('q'):\n",
    "            break\n",
    "\n",
    "cap.release()\n",
    "cv2.destroyAllWindows()"
   ]
  }
 ],
 "metadata": {
  "kernelspec": {
   "display_name": "Python 3",
   "language": "python",
   "name": "python3"
  },
  "language_info": {
   "codemirror_mode": {
    "name": "ipython",
    "version": 3
   },
   "file_extension": ".py",
   "mimetype": "text/x-python",
   "name": "python",
   "nbconvert_exporter": "python",
   "pygments_lexer": "ipython3",
   "version": "3.11.3"
  },
  "orig_nbformat": 4
 },
 "nbformat": 4,
 "nbformat_minor": 2
}
