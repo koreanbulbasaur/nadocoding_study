{
 "cells": [
  {
   "attachments": {},
   "cell_type": "markdown",
   "metadata": {},
   "source": [
    "# 7. 데이터 선택 (loc)\n",
    "이름을 이용하여 원하는 row 에서 원하는 col 선택"
   ]
  },
  {
   "cell_type": "code",
   "execution_count": 1,
   "metadata": {},
   "outputs": [
    {
     "data": {
      "text/html": [
       "<div>\n",
       "<style scoped>\n",
       "    .dataframe tbody tr th:only-of-type {\n",
       "        vertical-align: middle;\n",
       "    }\n",
       "\n",
       "    .dataframe tbody tr th {\n",
       "        vertical-align: top;\n",
       "    }\n",
       "\n",
       "    .dataframe thead th {\n",
       "        text-align: right;\n",
       "    }\n",
       "</style>\n",
       "<table border=\"1\" class=\"dataframe\">\n",
       "  <thead>\n",
       "    <tr style=\"text-align: right;\">\n",
       "      <th></th>\n",
       "      <th>name</th>\n",
       "      <th>club</th>\n",
       "      <th>height</th>\n",
       "      <th>Language</th>\n",
       "      <th>English</th>\n",
       "      <th>Math</th>\n",
       "      <th>science</th>\n",
       "      <th>Society</th>\n",
       "      <th>SW</th>\n",
       "    </tr>\n",
       "    <tr>\n",
       "      <th>지원번호</th>\n",
       "      <th></th>\n",
       "      <th></th>\n",
       "      <th></th>\n",
       "      <th></th>\n",
       "      <th></th>\n",
       "      <th></th>\n",
       "      <th></th>\n",
       "      <th></th>\n",
       "      <th></th>\n",
       "    </tr>\n",
       "  </thead>\n",
       "  <tbody>\n",
       "    <tr>\n",
       "      <th>1번</th>\n",
       "      <td>kronii</td>\n",
       "      <td>council</td>\n",
       "      <td>168</td>\n",
       "      <td>10</td>\n",
       "      <td>85</td>\n",
       "      <td>10</td>\n",
       "      <td>20</td>\n",
       "      <td>75</td>\n",
       "      <td>Python</td>\n",
       "    </tr>\n",
       "    <tr>\n",
       "      <th>2번</th>\n",
       "      <td>botan</td>\n",
       "      <td>JP5</td>\n",
       "      <td>166</td>\n",
       "      <td>30</td>\n",
       "      <td>35</td>\n",
       "      <td>65</td>\n",
       "      <td>95</td>\n",
       "      <td>35</td>\n",
       "      <td>Java</td>\n",
       "    </tr>\n",
       "    <tr>\n",
       "      <th>3번</th>\n",
       "      <td>anya</td>\n",
       "      <td>ID2</td>\n",
       "      <td>147</td>\n",
       "      <td>60</td>\n",
       "      <td>50</td>\n",
       "      <td>45</td>\n",
       "      <td>45</td>\n",
       "      <td>20</td>\n",
       "      <td>Javascript</td>\n",
       "    </tr>\n",
       "    <tr>\n",
       "      <th>4번</th>\n",
       "      <td>mio</td>\n",
       "      <td>GM</td>\n",
       "      <td>160</td>\n",
       "      <td>90</td>\n",
       "      <td>30</td>\n",
       "      <td>35</td>\n",
       "      <td>90</td>\n",
       "      <td>90</td>\n",
       "      <td>NaN</td>\n",
       "    </tr>\n",
       "    <tr>\n",
       "      <th>5번</th>\n",
       "      <td>roboco</td>\n",
       "      <td>JP0</td>\n",
       "      <td>154</td>\n",
       "      <td>80</td>\n",
       "      <td>15</td>\n",
       "      <td>75</td>\n",
       "      <td>55</td>\n",
       "      <td>45</td>\n",
       "      <td>NaN</td>\n",
       "    </tr>\n",
       "    <tr>\n",
       "      <th>6번</th>\n",
       "      <td>Marine</td>\n",
       "      <td>JP3</td>\n",
       "      <td>150</td>\n",
       "      <td>65</td>\n",
       "      <td>80</td>\n",
       "      <td>55</td>\n",
       "      <td>75</td>\n",
       "      <td>95</td>\n",
       "      <td>C</td>\n",
       "    </tr>\n",
       "    <tr>\n",
       "      <th>7번</th>\n",
       "      <td>Baelz</td>\n",
       "      <td>council</td>\n",
       "      <td>149</td>\n",
       "      <td>85</td>\n",
       "      <td>70</td>\n",
       "      <td>80</td>\n",
       "      <td>60</td>\n",
       "      <td>100</td>\n",
       "      <td>PYTHON</td>\n",
       "    </tr>\n",
       "    <tr>\n",
       "      <th>8번</th>\n",
       "      <td>okayu</td>\n",
       "      <td>GM</td>\n",
       "      <td>152</td>\n",
       "      <td>35</td>\n",
       "      <td>10</td>\n",
       "      <td>95</td>\n",
       "      <td>85</td>\n",
       "      <td>55</td>\n",
       "      <td>C#</td>\n",
       "    </tr>\n",
       "  </tbody>\n",
       "</table>\n",
       "</div>"
      ],
      "text/plain": [
       "        name     club  height  Language  English  Math  science  Society   \n",
       "지원번호                                                                       \n",
       "1번    kronii  council     168        10       85    10       20       75  \\\n",
       "2번     botan      JP5     166        30       35    65       95       35   \n",
       "3번      anya      ID2     147        60       50    45       45       20   \n",
       "4번       mio       GM     160        90       30    35       90       90   \n",
       "5번    roboco      JP0     154        80       15    75       55       45   \n",
       "6번    Marine      JP3     150        65       80    55       75       95   \n",
       "7번     Baelz  council     149        85       70    80       60      100   \n",
       "8번     okayu       GM     152        35       10    95       85       55   \n",
       "\n",
       "              SW  \n",
       "지원번호              \n",
       "1번        Python  \n",
       "2번          Java  \n",
       "3번    Javascript  \n",
       "4번           NaN  \n",
       "5번           NaN  \n",
       "6번             C  \n",
       "7번        PYTHON  \n",
       "8번            C#  "
      ]
     },
     "execution_count": 1,
     "metadata": {},
     "output_type": "execute_result"
    }
   ],
   "source": [
    "import pandas as pd\n",
    "df = pd.read_excel('score.xlsx', index_col='지원번호')\n",
    "df"
   ]
  },
  {
   "cell_type": "code",
   "execution_count": 2,
   "metadata": {},
   "outputs": [
    {
     "data": {
      "text/plain": [
       "name         kronii\n",
       "club        council\n",
       "height          168\n",
       "Language         10\n",
       "English          85\n",
       "Math             10\n",
       "science          20\n",
       "Society          75\n",
       "SW           Python\n",
       "Name: 1번, dtype: object"
      ]
     },
     "execution_count": 2,
     "metadata": {},
     "output_type": "execute_result"
    }
   ],
   "source": [
    "df.loc['1번'] # index 1번에 해당하는 전체 데이터"
   ]
  },
  {
   "cell_type": "code",
   "execution_count": 3,
   "metadata": {},
   "outputs": [
    {
     "data": {
      "text/plain": [
       "name        roboco\n",
       "club           JP0\n",
       "height         154\n",
       "Language        80\n",
       "English         15\n",
       "Math            75\n",
       "science         55\n",
       "Society         45\n",
       "SW             NaN\n",
       "Name: 5번, dtype: object"
      ]
     },
     "execution_count": 3,
     "metadata": {},
     "output_type": "execute_result"
    }
   ],
   "source": [
    "df.loc['5번'] # index 5번에 해당하는 전체 데이터"
   ]
  },
  {
   "cell_type": "code",
   "execution_count": 6,
   "metadata": {},
   "outputs": [
    {
     "data": {
      "text/plain": [
       "10"
      ]
     },
     "execution_count": 6,
     "metadata": {},
     "output_type": "execute_result"
    }
   ],
   "source": [
    "df.loc['1번', 'Language'] # index 1번에 해당하는 국어 데이터"
   ]
  },
  {
   "cell_type": "code",
   "execution_count": 8,
   "metadata": {},
   "outputs": [
    {
     "data": {
      "text/plain": [
       "지원번호\n",
       "1번    85\n",
       "2번    35\n",
       "Name: English, dtype: int64"
      ]
     },
     "execution_count": 8,
     "metadata": {},
     "output_type": "execute_result"
    }
   ],
   "source": [
    "df.loc[['1번', '2번'], 'English'] # index 1번, 2번에 해당하는 영어 데이터"
   ]
  },
  {
   "cell_type": "code",
   "execution_count": 9,
   "metadata": {},
   "outputs": [
    {
     "data": {
      "text/html": [
       "<div>\n",
       "<style scoped>\n",
       "    .dataframe tbody tr th:only-of-type {\n",
       "        vertical-align: middle;\n",
       "    }\n",
       "\n",
       "    .dataframe tbody tr th {\n",
       "        vertical-align: top;\n",
       "    }\n",
       "\n",
       "    .dataframe thead th {\n",
       "        text-align: right;\n",
       "    }\n",
       "</style>\n",
       "<table border=\"1\" class=\"dataframe\">\n",
       "  <thead>\n",
       "    <tr style=\"text-align: right;\">\n",
       "      <th></th>\n",
       "      <th>English</th>\n",
       "      <th>Math</th>\n",
       "    </tr>\n",
       "    <tr>\n",
       "      <th>지원번호</th>\n",
       "      <th></th>\n",
       "      <th></th>\n",
       "    </tr>\n",
       "  </thead>\n",
       "  <tbody>\n",
       "    <tr>\n",
       "      <th>1번</th>\n",
       "      <td>85</td>\n",
       "      <td>10</td>\n",
       "    </tr>\n",
       "    <tr>\n",
       "      <th>2번</th>\n",
       "      <td>35</td>\n",
       "      <td>65</td>\n",
       "    </tr>\n",
       "  </tbody>\n",
       "</table>\n",
       "</div>"
      ],
      "text/plain": [
       "      English  Math\n",
       "지원번호               \n",
       "1번         85    10\n",
       "2번         35    65"
      ]
     },
     "execution_count": 9,
     "metadata": {},
     "output_type": "execute_result"
    }
   ],
   "source": [
    "# index 1번, 2번에 해당하는 영어, 수학데이터\n",
    "df.loc[['1번', '2번'],['English', 'Math']] "
   ]
  },
  {
   "cell_type": "code",
   "execution_count": 10,
   "metadata": {},
   "outputs": [
    {
     "data": {
      "text/html": [
       "<div>\n",
       "<style scoped>\n",
       "    .dataframe tbody tr th:only-of-type {\n",
       "        vertical-align: middle;\n",
       "    }\n",
       "\n",
       "    .dataframe tbody tr th {\n",
       "        vertical-align: top;\n",
       "    }\n",
       "\n",
       "    .dataframe thead th {\n",
       "        text-align: right;\n",
       "    }\n",
       "</style>\n",
       "<table border=\"1\" class=\"dataframe\">\n",
       "  <thead>\n",
       "    <tr style=\"text-align: right;\">\n",
       "      <th></th>\n",
       "      <th>Language</th>\n",
       "      <th>English</th>\n",
       "      <th>Math</th>\n",
       "      <th>science</th>\n",
       "      <th>Society</th>\n",
       "    </tr>\n",
       "    <tr>\n",
       "      <th>지원번호</th>\n",
       "      <th></th>\n",
       "      <th></th>\n",
       "      <th></th>\n",
       "      <th></th>\n",
       "      <th></th>\n",
       "    </tr>\n",
       "  </thead>\n",
       "  <tbody>\n",
       "    <tr>\n",
       "      <th>1번</th>\n",
       "      <td>10</td>\n",
       "      <td>85</td>\n",
       "      <td>10</td>\n",
       "      <td>20</td>\n",
       "      <td>75</td>\n",
       "    </tr>\n",
       "    <tr>\n",
       "      <th>2번</th>\n",
       "      <td>30</td>\n",
       "      <td>35</td>\n",
       "      <td>65</td>\n",
       "      <td>95</td>\n",
       "      <td>35</td>\n",
       "    </tr>\n",
       "    <tr>\n",
       "      <th>3번</th>\n",
       "      <td>60</td>\n",
       "      <td>50</td>\n",
       "      <td>45</td>\n",
       "      <td>45</td>\n",
       "      <td>20</td>\n",
       "    </tr>\n",
       "    <tr>\n",
       "      <th>4번</th>\n",
       "      <td>90</td>\n",
       "      <td>30</td>\n",
       "      <td>35</td>\n",
       "      <td>90</td>\n",
       "      <td>90</td>\n",
       "    </tr>\n",
       "    <tr>\n",
       "      <th>5번</th>\n",
       "      <td>80</td>\n",
       "      <td>15</td>\n",
       "      <td>75</td>\n",
       "      <td>55</td>\n",
       "      <td>45</td>\n",
       "    </tr>\n",
       "  </tbody>\n",
       "</table>\n",
       "</div>"
      ],
      "text/plain": [
       "      Language  English  Math  science  Society\n",
       "지원번호                                           \n",
       "1번          10       85    10       20       75\n",
       "2번          30       35    65       95       35\n",
       "3번          60       50    45       45       20\n",
       "4번          90       30    35       90       90\n",
       "5번          80       15    75       55       45"
      ]
     },
     "execution_count": 10,
     "metadata": {},
     "output_type": "execute_result"
    }
   ],
   "source": [
    "# index 1번부터 5번까지, 언어부터 사회까지 데이터\n",
    "df.loc['1번':'5번','Language':'Society'] "
   ]
  }
 ],
 "metadata": {
  "kernelspec": {
   "display_name": "nado",
   "language": "python",
   "name": "python3"
  },
  "language_info": {
   "codemirror_mode": {
    "name": "ipython",
    "version": 3
   },
   "file_extension": ".py",
   "mimetype": "text/x-python",
   "name": "python",
   "nbconvert_exporter": "python",
   "pygments_lexer": "ipython3",
   "version": "3.11.3"
  },
  "orig_nbformat": 4
 },
 "nbformat": 4,
 "nbformat_minor": 2
}
