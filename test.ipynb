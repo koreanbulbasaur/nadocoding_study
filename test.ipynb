{
 "cells": [
  {
   "attachments": {},
   "cell_type": "markdown",
   "metadata": {},
   "source": [
    "# 5. 데이터 확인"
   ]
  },
  {
   "cell_type": "code",
   "execution_count": 105,
   "metadata": {},
   "outputs": [
    {
     "data": {
      "text/html": [
       "<div>\n",
       "<style scoped>\n",
       "    .dataframe tbody tr th:only-of-type {\n",
       "        vertical-align: middle;\n",
       "    }\n",
       "\n",
       "    .dataframe tbody tr th {\n",
       "        vertical-align: top;\n",
       "    }\n",
       "\n",
       "    .dataframe thead th {\n",
       "        text-align: right;\n",
       "    }\n",
       "</style>\n",
       "<table border=\"1\" class=\"dataframe\">\n",
       "  <thead>\n",
       "    <tr style=\"text-align: right;\">\n",
       "      <th></th>\n",
       "      <th>name</th>\n",
       "      <th>club</th>\n",
       "      <th>height</th>\n",
       "      <th>Language</th>\n",
       "      <th>English</th>\n",
       "      <th>Math</th>\n",
       "      <th>science</th>\n",
       "      <th>Society</th>\n",
       "      <th>SW</th>\n",
       "    </tr>\n",
       "    <tr>\n",
       "      <th>지원번호</th>\n",
       "      <th></th>\n",
       "      <th></th>\n",
       "      <th></th>\n",
       "      <th></th>\n",
       "      <th></th>\n",
       "      <th></th>\n",
       "      <th></th>\n",
       "      <th></th>\n",
       "      <th></th>\n",
       "    </tr>\n",
       "  </thead>\n",
       "  <tbody>\n",
       "    <tr>\n",
       "      <th>1번</th>\n",
       "      <td>kronii</td>\n",
       "      <td>EN</td>\n",
       "      <td>168</td>\n",
       "      <td>10</td>\n",
       "      <td>85</td>\n",
       "      <td>10</td>\n",
       "      <td>20</td>\n",
       "      <td>75</td>\n",
       "      <td>Python</td>\n",
       "    </tr>\n",
       "    <tr>\n",
       "      <th>2번</th>\n",
       "      <td>botan</td>\n",
       "      <td>JP</td>\n",
       "      <td>166</td>\n",
       "      <td>30</td>\n",
       "      <td>35</td>\n",
       "      <td>65</td>\n",
       "      <td>95</td>\n",
       "      <td>35</td>\n",
       "      <td>Java</td>\n",
       "    </tr>\n",
       "    <tr>\n",
       "      <th>3번</th>\n",
       "      <td>anya</td>\n",
       "      <td>ID</td>\n",
       "      <td>147</td>\n",
       "      <td>60</td>\n",
       "      <td>50</td>\n",
       "      <td>45</td>\n",
       "      <td>45</td>\n",
       "      <td>20</td>\n",
       "      <td>Javascript</td>\n",
       "    </tr>\n",
       "    <tr>\n",
       "      <th>4번</th>\n",
       "      <td>mio</td>\n",
       "      <td>JP</td>\n",
       "      <td>160</td>\n",
       "      <td>90</td>\n",
       "      <td>30</td>\n",
       "      <td>35</td>\n",
       "      <td>90</td>\n",
       "      <td>90</td>\n",
       "      <td>NaN</td>\n",
       "    </tr>\n",
       "    <tr>\n",
       "      <th>5번</th>\n",
       "      <td>roboco</td>\n",
       "      <td>JP</td>\n",
       "      <td>154</td>\n",
       "      <td>80</td>\n",
       "      <td>15</td>\n",
       "      <td>75</td>\n",
       "      <td>55</td>\n",
       "      <td>45</td>\n",
       "      <td>NaN</td>\n",
       "    </tr>\n",
       "    <tr>\n",
       "      <th>6번</th>\n",
       "      <td>Marine</td>\n",
       "      <td>JP</td>\n",
       "      <td>150</td>\n",
       "      <td>65</td>\n",
       "      <td>80</td>\n",
       "      <td>55</td>\n",
       "      <td>75</td>\n",
       "      <td>95</td>\n",
       "      <td>C</td>\n",
       "    </tr>\n",
       "    <tr>\n",
       "      <th>7번</th>\n",
       "      <td>Baelz</td>\n",
       "      <td>EN</td>\n",
       "      <td>149</td>\n",
       "      <td>69</td>\n",
       "      <td>69</td>\n",
       "      <td>69</td>\n",
       "      <td>69</td>\n",
       "      <td>100</td>\n",
       "      <td>PYTHON</td>\n",
       "    </tr>\n",
       "    <tr>\n",
       "      <th>8번</th>\n",
       "      <td>okayu</td>\n",
       "      <td>JP</td>\n",
       "      <td>152</td>\n",
       "      <td>35</td>\n",
       "      <td>10</td>\n",
       "      <td>95</td>\n",
       "      <td>85</td>\n",
       "      <td>55</td>\n",
       "      <td>C#</td>\n",
       "    </tr>\n",
       "  </tbody>\n",
       "</table>\n",
       "</div>"
      ],
      "text/plain": [
       "        name club  height  Language  English  Math  science  Society   \n",
       "지원번호                                                                   \n",
       "1번    kronii   EN     168        10       85    10       20       75  \\\n",
       "2번     botan   JP     166        30       35    65       95       35   \n",
       "3번      anya   ID     147        60       50    45       45       20   \n",
       "4번       mio   JP     160        90       30    35       90       90   \n",
       "5번    roboco   JP     154        80       15    75       55       45   \n",
       "6번    Marine   JP     150        65       80    55       75       95   \n",
       "7번     Baelz   EN     149        69       69    69       69      100   \n",
       "8번     okayu   JP     152        35       10    95       85       55   \n",
       "\n",
       "              SW  \n",
       "지원번호              \n",
       "1번        Python  \n",
       "2번          Java  \n",
       "3번    Javascript  \n",
       "4번           NaN  \n",
       "5번           NaN  \n",
       "6번             C  \n",
       "7번        PYTHON  \n",
       "8번            C#  "
      ]
     },
     "execution_count": 105,
     "metadata": {},
     "output_type": "execute_result"
    }
   ],
   "source": [
    "import pandas as pd\n",
    "df = pd.read_excel(r'C:\\Private_Projects\\nadocoding\\PythonDataWorkspace\\Pandas\\score.xlsx', index_col=0)\n",
    "df"
   ]
  },
  {
   "attachments": {},
   "cell_type": "markdown",
   "metadata": {},
   "source": [
    "## DataFrame 확인\n",
    "계산 가능한 데이터에 대해 Column 별로 데이터의 갯수, 평균, 표준편차, 최소/최대값 등의 정보를 보여줌"
   ]
  },
  {
   "cell_type": "code",
   "execution_count": 106,
   "metadata": {},
   "outputs": [
    {
     "data": {
      "text/html": [
       "<div>\n",
       "<style scoped>\n",
       "    .dataframe tbody tr th:only-of-type {\n",
       "        vertical-align: middle;\n",
       "    }\n",
       "\n",
       "    .dataframe tbody tr th {\n",
       "        vertical-align: top;\n",
       "    }\n",
       "\n",
       "    .dataframe thead th {\n",
       "        text-align: right;\n",
       "    }\n",
       "</style>\n",
       "<table border=\"1\" class=\"dataframe\">\n",
       "  <thead>\n",
       "    <tr style=\"text-align: right;\">\n",
       "      <th></th>\n",
       "      <th>height</th>\n",
       "      <th>Language</th>\n",
       "      <th>English</th>\n",
       "      <th>Math</th>\n",
       "      <th>science</th>\n",
       "      <th>Society</th>\n",
       "    </tr>\n",
       "  </thead>\n",
       "  <tbody>\n",
       "    <tr>\n",
       "      <th>count</th>\n",
       "      <td>8.000000</td>\n",
       "      <td>8.000000</td>\n",
       "      <td>8.000000</td>\n",
       "      <td>8.000000</td>\n",
       "      <td>8.000000</td>\n",
       "      <td>8.000000</td>\n",
       "    </tr>\n",
       "    <tr>\n",
       "      <th>mean</th>\n",
       "      <td>155.750000</td>\n",
       "      <td>54.875000</td>\n",
       "      <td>46.750000</td>\n",
       "      <td>56.125000</td>\n",
       "      <td>66.750000</td>\n",
       "      <td>64.375000</td>\n",
       "    </tr>\n",
       "    <tr>\n",
       "      <th>std</th>\n",
       "      <td>7.977647</td>\n",
       "      <td>27.310058</td>\n",
       "      <td>28.912429</td>\n",
       "      <td>26.215794</td>\n",
       "      <td>25.471272</td>\n",
       "      <td>29.932961</td>\n",
       "    </tr>\n",
       "    <tr>\n",
       "      <th>min</th>\n",
       "      <td>147.000000</td>\n",
       "      <td>10.000000</td>\n",
       "      <td>10.000000</td>\n",
       "      <td>10.000000</td>\n",
       "      <td>20.000000</td>\n",
       "      <td>20.000000</td>\n",
       "    </tr>\n",
       "    <tr>\n",
       "      <th>25%</th>\n",
       "      <td>149.750000</td>\n",
       "      <td>33.750000</td>\n",
       "      <td>26.250000</td>\n",
       "      <td>42.500000</td>\n",
       "      <td>52.500000</td>\n",
       "      <td>42.500000</td>\n",
       "    </tr>\n",
       "    <tr>\n",
       "      <th>50%</th>\n",
       "      <td>153.000000</td>\n",
       "      <td>62.500000</td>\n",
       "      <td>42.500000</td>\n",
       "      <td>60.000000</td>\n",
       "      <td>72.000000</td>\n",
       "      <td>65.000000</td>\n",
       "    </tr>\n",
       "    <tr>\n",
       "      <th>75%</th>\n",
       "      <td>161.500000</td>\n",
       "      <td>71.750000</td>\n",
       "      <td>71.750000</td>\n",
       "      <td>70.500000</td>\n",
       "      <td>86.250000</td>\n",
       "      <td>91.250000</td>\n",
       "    </tr>\n",
       "    <tr>\n",
       "      <th>max</th>\n",
       "      <td>168.000000</td>\n",
       "      <td>90.000000</td>\n",
       "      <td>85.000000</td>\n",
       "      <td>95.000000</td>\n",
       "      <td>95.000000</td>\n",
       "      <td>100.000000</td>\n",
       "    </tr>\n",
       "  </tbody>\n",
       "</table>\n",
       "</div>"
      ],
      "text/plain": [
       "           height   Language    English       Math    science     Society\n",
       "count    8.000000   8.000000   8.000000   8.000000   8.000000    8.000000\n",
       "mean   155.750000  54.875000  46.750000  56.125000  66.750000   64.375000\n",
       "std      7.977647  27.310058  28.912429  26.215794  25.471272   29.932961\n",
       "min    147.000000  10.000000  10.000000  10.000000  20.000000   20.000000\n",
       "25%    149.750000  33.750000  26.250000  42.500000  52.500000   42.500000\n",
       "50%    153.000000  62.500000  42.500000  60.000000  72.000000   65.000000\n",
       "75%    161.500000  71.750000  71.750000  70.500000  86.250000   91.250000\n",
       "max    168.000000  90.000000  85.000000  95.000000  95.000000  100.000000"
      ]
     },
     "execution_count": 106,
     "metadata": {},
     "output_type": "execute_result"
    }
   ],
   "source": [
    "df.describe()"
   ]
  },
  {
   "cell_type": "code",
   "execution_count": 107,
   "metadata": {},
   "outputs": [
    {
     "name": "stdout",
     "output_type": "stream",
     "text": [
      "<class 'pandas.core.frame.DataFrame'>\n",
      "Index: 8 entries, 1번 to 8번\n",
      "Data columns (total 9 columns):\n",
      " #   Column    Non-Null Count  Dtype \n",
      "---  ------    --------------  ----- \n",
      " 0   name      8 non-null      object\n",
      " 1   club      8 non-null      object\n",
      " 2   height    8 non-null      int64 \n",
      " 3   Language  8 non-null      int64 \n",
      " 4   English   8 non-null      int64 \n",
      " 5   Math      8 non-null      int64 \n",
      " 6   science   8 non-null      int64 \n",
      " 7   Society   8 non-null      int64 \n",
      " 8   SW        6 non-null      object\n",
      "dtypes: int64(6), object(3)\n",
      "memory usage: 640.0+ bytes\n"
     ]
    }
   ],
   "source": [
    "df.info()"
   ]
  },
  {
   "cell_type": "code",
   "execution_count": 108,
   "metadata": {},
   "outputs": [
    {
     "data": {
      "text/html": [
       "<div>\n",
       "<style scoped>\n",
       "    .dataframe tbody tr th:only-of-type {\n",
       "        vertical-align: middle;\n",
       "    }\n",
       "\n",
       "    .dataframe tbody tr th {\n",
       "        vertical-align: top;\n",
       "    }\n",
       "\n",
       "    .dataframe thead th {\n",
       "        text-align: right;\n",
       "    }\n",
       "</style>\n",
       "<table border=\"1\" class=\"dataframe\">\n",
       "  <thead>\n",
       "    <tr style=\"text-align: right;\">\n",
       "      <th></th>\n",
       "      <th>name</th>\n",
       "      <th>club</th>\n",
       "      <th>height</th>\n",
       "      <th>Language</th>\n",
       "      <th>English</th>\n",
       "      <th>Math</th>\n",
       "      <th>science</th>\n",
       "      <th>Society</th>\n",
       "      <th>SW</th>\n",
       "    </tr>\n",
       "    <tr>\n",
       "      <th>지원번호</th>\n",
       "      <th></th>\n",
       "      <th></th>\n",
       "      <th></th>\n",
       "      <th></th>\n",
       "      <th></th>\n",
       "      <th></th>\n",
       "      <th></th>\n",
       "      <th></th>\n",
       "      <th></th>\n",
       "    </tr>\n",
       "  </thead>\n",
       "  <tbody>\n",
       "    <tr>\n",
       "      <th>1번</th>\n",
       "      <td>kronii</td>\n",
       "      <td>EN</td>\n",
       "      <td>168</td>\n",
       "      <td>10</td>\n",
       "      <td>85</td>\n",
       "      <td>10</td>\n",
       "      <td>20</td>\n",
       "      <td>75</td>\n",
       "      <td>Python</td>\n",
       "    </tr>\n",
       "    <tr>\n",
       "      <th>2번</th>\n",
       "      <td>botan</td>\n",
       "      <td>JP</td>\n",
       "      <td>166</td>\n",
       "      <td>30</td>\n",
       "      <td>35</td>\n",
       "      <td>65</td>\n",
       "      <td>95</td>\n",
       "      <td>35</td>\n",
       "      <td>Java</td>\n",
       "    </tr>\n",
       "    <tr>\n",
       "      <th>3번</th>\n",
       "      <td>anya</td>\n",
       "      <td>ID</td>\n",
       "      <td>147</td>\n",
       "      <td>60</td>\n",
       "      <td>50</td>\n",
       "      <td>45</td>\n",
       "      <td>45</td>\n",
       "      <td>20</td>\n",
       "      <td>Javascript</td>\n",
       "    </tr>\n",
       "    <tr>\n",
       "      <th>4번</th>\n",
       "      <td>mio</td>\n",
       "      <td>JP</td>\n",
       "      <td>160</td>\n",
       "      <td>90</td>\n",
       "      <td>30</td>\n",
       "      <td>35</td>\n",
       "      <td>90</td>\n",
       "      <td>90</td>\n",
       "      <td>NaN</td>\n",
       "    </tr>\n",
       "    <tr>\n",
       "      <th>5번</th>\n",
       "      <td>roboco</td>\n",
       "      <td>JP</td>\n",
       "      <td>154</td>\n",
       "      <td>80</td>\n",
       "      <td>15</td>\n",
       "      <td>75</td>\n",
       "      <td>55</td>\n",
       "      <td>45</td>\n",
       "      <td>NaN</td>\n",
       "    </tr>\n",
       "  </tbody>\n",
       "</table>\n",
       "</div>"
      ],
      "text/plain": [
       "        name club  height  Language  English  Math  science  Society   \n",
       "지원번호                                                                   \n",
       "1번    kronii   EN     168        10       85    10       20       75  \\\n",
       "2번     botan   JP     166        30       35    65       95       35   \n",
       "3번      anya   ID     147        60       50    45       45       20   \n",
       "4번       mio   JP     160        90       30    35       90       90   \n",
       "5번    roboco   JP     154        80       15    75       55       45   \n",
       "\n",
       "              SW  \n",
       "지원번호              \n",
       "1번        Python  \n",
       "2번          Java  \n",
       "3번    Javascript  \n",
       "4번           NaN  \n",
       "5번           NaN  "
      ]
     },
     "execution_count": 108,
     "metadata": {},
     "output_type": "execute_result"
    }
   ],
   "source": [
    "df.head() # 처음 5개의 row 를 가져옴"
   ]
  },
  {
   "cell_type": "code",
   "execution_count": 109,
   "metadata": {},
   "outputs": [
    {
     "data": {
      "text/html": [
       "<div>\n",
       "<style scoped>\n",
       "    .dataframe tbody tr th:only-of-type {\n",
       "        vertical-align: middle;\n",
       "    }\n",
       "\n",
       "    .dataframe tbody tr th {\n",
       "        vertical-align: top;\n",
       "    }\n",
       "\n",
       "    .dataframe thead th {\n",
       "        text-align: right;\n",
       "    }\n",
       "</style>\n",
       "<table border=\"1\" class=\"dataframe\">\n",
       "  <thead>\n",
       "    <tr style=\"text-align: right;\">\n",
       "      <th></th>\n",
       "      <th>name</th>\n",
       "      <th>club</th>\n",
       "      <th>height</th>\n",
       "      <th>Language</th>\n",
       "      <th>English</th>\n",
       "      <th>Math</th>\n",
       "      <th>science</th>\n",
       "      <th>Society</th>\n",
       "      <th>SW</th>\n",
       "    </tr>\n",
       "    <tr>\n",
       "      <th>지원번호</th>\n",
       "      <th></th>\n",
       "      <th></th>\n",
       "      <th></th>\n",
       "      <th></th>\n",
       "      <th></th>\n",
       "      <th></th>\n",
       "      <th></th>\n",
       "      <th></th>\n",
       "      <th></th>\n",
       "    </tr>\n",
       "  </thead>\n",
       "  <tbody>\n",
       "    <tr>\n",
       "      <th>1번</th>\n",
       "      <td>kronii</td>\n",
       "      <td>EN</td>\n",
       "      <td>168</td>\n",
       "      <td>10</td>\n",
       "      <td>85</td>\n",
       "      <td>10</td>\n",
       "      <td>20</td>\n",
       "      <td>75</td>\n",
       "      <td>Python</td>\n",
       "    </tr>\n",
       "    <tr>\n",
       "      <th>2번</th>\n",
       "      <td>botan</td>\n",
       "      <td>JP</td>\n",
       "      <td>166</td>\n",
       "      <td>30</td>\n",
       "      <td>35</td>\n",
       "      <td>65</td>\n",
       "      <td>95</td>\n",
       "      <td>35</td>\n",
       "      <td>Java</td>\n",
       "    </tr>\n",
       "    <tr>\n",
       "      <th>3번</th>\n",
       "      <td>anya</td>\n",
       "      <td>ID</td>\n",
       "      <td>147</td>\n",
       "      <td>60</td>\n",
       "      <td>50</td>\n",
       "      <td>45</td>\n",
       "      <td>45</td>\n",
       "      <td>20</td>\n",
       "      <td>Javascript</td>\n",
       "    </tr>\n",
       "    <tr>\n",
       "      <th>4번</th>\n",
       "      <td>mio</td>\n",
       "      <td>JP</td>\n",
       "      <td>160</td>\n",
       "      <td>90</td>\n",
       "      <td>30</td>\n",
       "      <td>35</td>\n",
       "      <td>90</td>\n",
       "      <td>90</td>\n",
       "      <td>NaN</td>\n",
       "    </tr>\n",
       "    <tr>\n",
       "      <th>5번</th>\n",
       "      <td>roboco</td>\n",
       "      <td>JP</td>\n",
       "      <td>154</td>\n",
       "      <td>80</td>\n",
       "      <td>15</td>\n",
       "      <td>75</td>\n",
       "      <td>55</td>\n",
       "      <td>45</td>\n",
       "      <td>NaN</td>\n",
       "    </tr>\n",
       "    <tr>\n",
       "      <th>6번</th>\n",
       "      <td>Marine</td>\n",
       "      <td>JP</td>\n",
       "      <td>150</td>\n",
       "      <td>65</td>\n",
       "      <td>80</td>\n",
       "      <td>55</td>\n",
       "      <td>75</td>\n",
       "      <td>95</td>\n",
       "      <td>C</td>\n",
       "    </tr>\n",
       "    <tr>\n",
       "      <th>7번</th>\n",
       "      <td>Baelz</td>\n",
       "      <td>EN</td>\n",
       "      <td>149</td>\n",
       "      <td>69</td>\n",
       "      <td>69</td>\n",
       "      <td>69</td>\n",
       "      <td>69</td>\n",
       "      <td>100</td>\n",
       "      <td>PYTHON</td>\n",
       "    </tr>\n",
       "  </tbody>\n",
       "</table>\n",
       "</div>"
      ],
      "text/plain": [
       "        name club  height  Language  English  Math  science  Society   \n",
       "지원번호                                                                   \n",
       "1번    kronii   EN     168        10       85    10       20       75  \\\n",
       "2번     botan   JP     166        30       35    65       95       35   \n",
       "3번      anya   ID     147        60       50    45       45       20   \n",
       "4번       mio   JP     160        90       30    35       90       90   \n",
       "5번    roboco   JP     154        80       15    75       55       45   \n",
       "6번    Marine   JP     150        65       80    55       75       95   \n",
       "7번     Baelz   EN     149        69       69    69       69      100   \n",
       "\n",
       "              SW  \n",
       "지원번호              \n",
       "1번        Python  \n",
       "2번          Java  \n",
       "3번    Javascript  \n",
       "4번           NaN  \n",
       "5번           NaN  \n",
       "6번             C  \n",
       "7번        PYTHON  "
      ]
     },
     "execution_count": 109,
     "metadata": {},
     "output_type": "execute_result"
    }
   ],
   "source": [
    "df.head(7) # 처음 7개의 row 를 가져옴"
   ]
  },
  {
   "cell_type": "code",
   "execution_count": 110,
   "metadata": {},
   "outputs": [
    {
     "data": {
      "text/html": [
       "<div>\n",
       "<style scoped>\n",
       "    .dataframe tbody tr th:only-of-type {\n",
       "        vertical-align: middle;\n",
       "    }\n",
       "\n",
       "    .dataframe tbody tr th {\n",
       "        vertical-align: top;\n",
       "    }\n",
       "\n",
       "    .dataframe thead th {\n",
       "        text-align: right;\n",
       "    }\n",
       "</style>\n",
       "<table border=\"1\" class=\"dataframe\">\n",
       "  <thead>\n",
       "    <tr style=\"text-align: right;\">\n",
       "      <th></th>\n",
       "      <th>name</th>\n",
       "      <th>club</th>\n",
       "      <th>height</th>\n",
       "      <th>Language</th>\n",
       "      <th>English</th>\n",
       "      <th>Math</th>\n",
       "      <th>science</th>\n",
       "      <th>Society</th>\n",
       "      <th>SW</th>\n",
       "    </tr>\n",
       "    <tr>\n",
       "      <th>지원번호</th>\n",
       "      <th></th>\n",
       "      <th></th>\n",
       "      <th></th>\n",
       "      <th></th>\n",
       "      <th></th>\n",
       "      <th></th>\n",
       "      <th></th>\n",
       "      <th></th>\n",
       "      <th></th>\n",
       "    </tr>\n",
       "  </thead>\n",
       "  <tbody>\n",
       "    <tr>\n",
       "      <th>4번</th>\n",
       "      <td>mio</td>\n",
       "      <td>JP</td>\n",
       "      <td>160</td>\n",
       "      <td>90</td>\n",
       "      <td>30</td>\n",
       "      <td>35</td>\n",
       "      <td>90</td>\n",
       "      <td>90</td>\n",
       "      <td>NaN</td>\n",
       "    </tr>\n",
       "    <tr>\n",
       "      <th>5번</th>\n",
       "      <td>roboco</td>\n",
       "      <td>JP</td>\n",
       "      <td>154</td>\n",
       "      <td>80</td>\n",
       "      <td>15</td>\n",
       "      <td>75</td>\n",
       "      <td>55</td>\n",
       "      <td>45</td>\n",
       "      <td>NaN</td>\n",
       "    </tr>\n",
       "    <tr>\n",
       "      <th>6번</th>\n",
       "      <td>Marine</td>\n",
       "      <td>JP</td>\n",
       "      <td>150</td>\n",
       "      <td>65</td>\n",
       "      <td>80</td>\n",
       "      <td>55</td>\n",
       "      <td>75</td>\n",
       "      <td>95</td>\n",
       "      <td>C</td>\n",
       "    </tr>\n",
       "    <tr>\n",
       "      <th>7번</th>\n",
       "      <td>Baelz</td>\n",
       "      <td>EN</td>\n",
       "      <td>149</td>\n",
       "      <td>69</td>\n",
       "      <td>69</td>\n",
       "      <td>69</td>\n",
       "      <td>69</td>\n",
       "      <td>100</td>\n",
       "      <td>PYTHON</td>\n",
       "    </tr>\n",
       "    <tr>\n",
       "      <th>8번</th>\n",
       "      <td>okayu</td>\n",
       "      <td>JP</td>\n",
       "      <td>152</td>\n",
       "      <td>35</td>\n",
       "      <td>10</td>\n",
       "      <td>95</td>\n",
       "      <td>85</td>\n",
       "      <td>55</td>\n",
       "      <td>C#</td>\n",
       "    </tr>\n",
       "  </tbody>\n",
       "</table>\n",
       "</div>"
      ],
      "text/plain": [
       "        name club  height  Language  English  Math  science  Society      SW\n",
       "지원번호                                                                        \n",
       "4번       mio   JP     160        90       30    35       90       90     NaN\n",
       "5번    roboco   JP     154        80       15    75       55       45     NaN\n",
       "6번    Marine   JP     150        65       80    55       75       95       C\n",
       "7번     Baelz   EN     149        69       69    69       69      100  PYTHON\n",
       "8번     okayu   JP     152        35       10    95       85       55      C#"
      ]
     },
     "execution_count": 110,
     "metadata": {},
     "output_type": "execute_result"
    }
   ],
   "source": [
    "df.tail() # 마지막 5개 row를 가져옴"
   ]
  },
  {
   "cell_type": "code",
   "execution_count": 111,
   "metadata": {},
   "outputs": [
    {
     "data": {
      "text/html": [
       "<div>\n",
       "<style scoped>\n",
       "    .dataframe tbody tr th:only-of-type {\n",
       "        vertical-align: middle;\n",
       "    }\n",
       "\n",
       "    .dataframe tbody tr th {\n",
       "        vertical-align: top;\n",
       "    }\n",
       "\n",
       "    .dataframe thead th {\n",
       "        text-align: right;\n",
       "    }\n",
       "</style>\n",
       "<table border=\"1\" class=\"dataframe\">\n",
       "  <thead>\n",
       "    <tr style=\"text-align: right;\">\n",
       "      <th></th>\n",
       "      <th>name</th>\n",
       "      <th>club</th>\n",
       "      <th>height</th>\n",
       "      <th>Language</th>\n",
       "      <th>English</th>\n",
       "      <th>Math</th>\n",
       "      <th>science</th>\n",
       "      <th>Society</th>\n",
       "      <th>SW</th>\n",
       "    </tr>\n",
       "    <tr>\n",
       "      <th>지원번호</th>\n",
       "      <th></th>\n",
       "      <th></th>\n",
       "      <th></th>\n",
       "      <th></th>\n",
       "      <th></th>\n",
       "      <th></th>\n",
       "      <th></th>\n",
       "      <th></th>\n",
       "      <th></th>\n",
       "    </tr>\n",
       "  </thead>\n",
       "  <tbody>\n",
       "    <tr>\n",
       "      <th>6번</th>\n",
       "      <td>Marine</td>\n",
       "      <td>JP</td>\n",
       "      <td>150</td>\n",
       "      <td>65</td>\n",
       "      <td>80</td>\n",
       "      <td>55</td>\n",
       "      <td>75</td>\n",
       "      <td>95</td>\n",
       "      <td>C</td>\n",
       "    </tr>\n",
       "    <tr>\n",
       "      <th>7번</th>\n",
       "      <td>Baelz</td>\n",
       "      <td>EN</td>\n",
       "      <td>149</td>\n",
       "      <td>69</td>\n",
       "      <td>69</td>\n",
       "      <td>69</td>\n",
       "      <td>69</td>\n",
       "      <td>100</td>\n",
       "      <td>PYTHON</td>\n",
       "    </tr>\n",
       "    <tr>\n",
       "      <th>8번</th>\n",
       "      <td>okayu</td>\n",
       "      <td>JP</td>\n",
       "      <td>152</td>\n",
       "      <td>35</td>\n",
       "      <td>10</td>\n",
       "      <td>95</td>\n",
       "      <td>85</td>\n",
       "      <td>55</td>\n",
       "      <td>C#</td>\n",
       "    </tr>\n",
       "  </tbody>\n",
       "</table>\n",
       "</div>"
      ],
      "text/plain": [
       "        name club  height  Language  English  Math  science  Society      SW\n",
       "지원번호                                                                        \n",
       "6번    Marine   JP     150        65       80    55       75       95       C\n",
       "7번     Baelz   EN     149        69       69    69       69      100  PYTHON\n",
       "8번     okayu   JP     152        35       10    95       85       55      C#"
      ]
     },
     "execution_count": 111,
     "metadata": {},
     "output_type": "execute_result"
    }
   ],
   "source": [
    "df.tail(3) # 마지막 3개 row 를 가져옴"
   ]
  },
  {
   "cell_type": "code",
   "execution_count": 112,
   "metadata": {},
   "outputs": [
    {
     "data": {
      "text/plain": [
       "array([['kronii', 'EN', 168, 10, 85, 10, 20, 75, 'Python'],\n",
       "       ['botan', 'JP', 166, 30, 35, 65, 95, 35, 'Java'],\n",
       "       ['anya', 'ID', 147, 60, 50, 45, 45, 20, 'Javascript'],\n",
       "       ['mio', 'JP', 160, 90, 30, 35, 90, 90, nan],\n",
       "       ['roboco', 'JP', 154, 80, 15, 75, 55, 45, nan],\n",
       "       ['Marine', 'JP', 150, 65, 80, 55, 75, 95, 'C'],\n",
       "       ['Baelz', 'EN', 149, 69, 69, 69, 69, 100, 'PYTHON'],\n",
       "       ['okayu', 'JP', 152, 35, 10, 95, 85, 55, 'C#']], dtype=object)"
      ]
     },
     "execution_count": 112,
     "metadata": {},
     "output_type": "execute_result"
    }
   ],
   "source": [
    "df.values"
   ]
  },
  {
   "cell_type": "code",
   "execution_count": 113,
   "metadata": {},
   "outputs": [
    {
     "data": {
      "text/plain": [
       "Index(['1번', '2번', '3번', '4번', '5번', '6번', '7번', '8번'], dtype='object', name='지원번호')"
      ]
     },
     "execution_count": 113,
     "metadata": {},
     "output_type": "execute_result"
    }
   ],
   "source": [
    "df.index"
   ]
  },
  {
   "cell_type": "code",
   "execution_count": 114,
   "metadata": {},
   "outputs": [
    {
     "data": {
      "text/plain": [
       "'1번'"
      ]
     },
     "execution_count": 114,
     "metadata": {},
     "output_type": "execute_result"
    }
   ],
   "source": [
    "df.index[0]"
   ]
  },
  {
   "cell_type": "code",
   "execution_count": 115,
   "metadata": {},
   "outputs": [
    {
     "data": {
      "text/plain": [
       "Index(['name', 'club', 'height', 'Language', 'English', 'Math', 'science',\n",
       "       'Society', 'SW'],\n",
       "      dtype='object')"
      ]
     },
     "execution_count": 115,
     "metadata": {},
     "output_type": "execute_result"
    }
   ],
   "source": [
    "df.columns"
   ]
  },
  {
   "cell_type": "code",
   "execution_count": 116,
   "metadata": {},
   "outputs": [
    {
     "data": {
      "text/plain": [
       "(8, 9)"
      ]
     },
     "execution_count": 116,
     "metadata": {},
     "output_type": "execute_result"
    }
   ],
   "source": [
    "df.shape # row, column"
   ]
  },
  {
   "cell_type": "code",
   "execution_count": 117,
   "metadata": {},
   "outputs": [
    {
     "data": {
      "text/html": [
       "<div>\n",
       "<style scoped>\n",
       "    .dataframe tbody tr th:only-of-type {\n",
       "        vertical-align: middle;\n",
       "    }\n",
       "\n",
       "    .dataframe tbody tr th {\n",
       "        vertical-align: top;\n",
       "    }\n",
       "\n",
       "    .dataframe thead th {\n",
       "        text-align: right;\n",
       "    }\n",
       "</style>\n",
       "<table border=\"1\" class=\"dataframe\">\n",
       "  <thead>\n",
       "    <tr style=\"text-align: right;\">\n",
       "      <th></th>\n",
       "      <th>name</th>\n",
       "      <th>club</th>\n",
       "      <th>height</th>\n",
       "      <th>Language</th>\n",
       "      <th>English</th>\n",
       "      <th>Math</th>\n",
       "      <th>science</th>\n",
       "      <th>Society</th>\n",
       "      <th>SW</th>\n",
       "    </tr>\n",
       "    <tr>\n",
       "      <th>지원번호</th>\n",
       "      <th></th>\n",
       "      <th></th>\n",
       "      <th></th>\n",
       "      <th></th>\n",
       "      <th></th>\n",
       "      <th></th>\n",
       "      <th></th>\n",
       "      <th></th>\n",
       "      <th></th>\n",
       "    </tr>\n",
       "  </thead>\n",
       "  <tbody>\n",
       "    <tr>\n",
       "      <th>1번</th>\n",
       "      <td>kronii</td>\n",
       "      <td>EN</td>\n",
       "      <td>168</td>\n",
       "      <td>10</td>\n",
       "      <td>85</td>\n",
       "      <td>10</td>\n",
       "      <td>20</td>\n",
       "      <td>75</td>\n",
       "      <td>Python</td>\n",
       "    </tr>\n",
       "    <tr>\n",
       "      <th>2번</th>\n",
       "      <td>botan</td>\n",
       "      <td>JP</td>\n",
       "      <td>166</td>\n",
       "      <td>30</td>\n",
       "      <td>35</td>\n",
       "      <td>65</td>\n",
       "      <td>95</td>\n",
       "      <td>35</td>\n",
       "      <td>Java</td>\n",
       "    </tr>\n",
       "    <tr>\n",
       "      <th>3번</th>\n",
       "      <td>anya</td>\n",
       "      <td>ID</td>\n",
       "      <td>147</td>\n",
       "      <td>60</td>\n",
       "      <td>50</td>\n",
       "      <td>45</td>\n",
       "      <td>45</td>\n",
       "      <td>20</td>\n",
       "      <td>Javascript</td>\n",
       "    </tr>\n",
       "    <tr>\n",
       "      <th>4번</th>\n",
       "      <td>mio</td>\n",
       "      <td>JP</td>\n",
       "      <td>160</td>\n",
       "      <td>90</td>\n",
       "      <td>30</td>\n",
       "      <td>35</td>\n",
       "      <td>90</td>\n",
       "      <td>90</td>\n",
       "      <td>NaN</td>\n",
       "    </tr>\n",
       "    <tr>\n",
       "      <th>5번</th>\n",
       "      <td>roboco</td>\n",
       "      <td>JP</td>\n",
       "      <td>154</td>\n",
       "      <td>80</td>\n",
       "      <td>15</td>\n",
       "      <td>75</td>\n",
       "      <td>55</td>\n",
       "      <td>45</td>\n",
       "      <td>NaN</td>\n",
       "    </tr>\n",
       "    <tr>\n",
       "      <th>6번</th>\n",
       "      <td>Marine</td>\n",
       "      <td>JP</td>\n",
       "      <td>150</td>\n",
       "      <td>65</td>\n",
       "      <td>80</td>\n",
       "      <td>55</td>\n",
       "      <td>75</td>\n",
       "      <td>95</td>\n",
       "      <td>C</td>\n",
       "    </tr>\n",
       "    <tr>\n",
       "      <th>7번</th>\n",
       "      <td>Baelz</td>\n",
       "      <td>EN</td>\n",
       "      <td>149</td>\n",
       "      <td>69</td>\n",
       "      <td>69</td>\n",
       "      <td>69</td>\n",
       "      <td>69</td>\n",
       "      <td>100</td>\n",
       "      <td>PYTHON</td>\n",
       "    </tr>\n",
       "    <tr>\n",
       "      <th>8번</th>\n",
       "      <td>okayu</td>\n",
       "      <td>JP</td>\n",
       "      <td>152</td>\n",
       "      <td>35</td>\n",
       "      <td>10</td>\n",
       "      <td>95</td>\n",
       "      <td>85</td>\n",
       "      <td>55</td>\n",
       "      <td>C#</td>\n",
       "    </tr>\n",
       "  </tbody>\n",
       "</table>\n",
       "</div>"
      ],
      "text/plain": [
       "        name club  height  Language  English  Math  science  Society   \n",
       "지원번호                                                                   \n",
       "1번    kronii   EN     168        10       85    10       20       75  \\\n",
       "2번     botan   JP     166        30       35    65       95       35   \n",
       "3번      anya   ID     147        60       50    45       45       20   \n",
       "4번       mio   JP     160        90       30    35       90       90   \n",
       "5번    roboco   JP     154        80       15    75       55       45   \n",
       "6번    Marine   JP     150        65       80    55       75       95   \n",
       "7번     Baelz   EN     149        69       69    69       69      100   \n",
       "8번     okayu   JP     152        35       10    95       85       55   \n",
       "\n",
       "              SW  \n",
       "지원번호              \n",
       "1번        Python  \n",
       "2번          Java  \n",
       "3번    Javascript  \n",
       "4번           NaN  \n",
       "5번           NaN  \n",
       "6번             C  \n",
       "7번        PYTHON  \n",
       "8번            C#  "
      ]
     },
     "execution_count": 117,
     "metadata": {},
     "output_type": "execute_result"
    }
   ],
   "source": [
    "df"
   ]
  },
  {
   "attachments": {},
   "cell_type": "markdown",
   "metadata": {},
   "source": [
    "## Series 확인"
   ]
  },
  {
   "cell_type": "code",
   "execution_count": 118,
   "metadata": {},
   "outputs": [
    {
     "data": {
      "text/plain": [
       "count      8.000000\n",
       "mean     155.750000\n",
       "std        7.977647\n",
       "min      147.000000\n",
       "25%      149.750000\n",
       "50%      153.000000\n",
       "75%      161.500000\n",
       "max      168.000000\n",
       "Name: height, dtype: float64"
      ]
     },
     "execution_count": 118,
     "metadata": {},
     "output_type": "execute_result"
    }
   ],
   "source": [
    "df['height'].describe()"
   ]
  },
  {
   "cell_type": "code",
   "execution_count": 119,
   "metadata": {},
   "outputs": [
    {
     "data": {
      "text/plain": [
       "147"
      ]
     },
     "execution_count": 119,
     "metadata": {},
     "output_type": "execute_result"
    }
   ],
   "source": [
    "df['height'].min()"
   ]
  },
  {
   "cell_type": "code",
   "execution_count": 120,
   "metadata": {},
   "outputs": [
    {
     "data": {
      "text/plain": [
       "168"
      ]
     },
     "execution_count": 120,
     "metadata": {},
     "output_type": "execute_result"
    }
   ],
   "source": [
    "df['height'].max()"
   ]
  },
  {
   "cell_type": "code",
   "execution_count": 121,
   "metadata": {},
   "outputs": [
    {
     "data": {
      "text/plain": [
       "지원번호\n",
       "1번    168\n",
       "2번    166\n",
       "4번    160\n",
       "Name: height, dtype: int64"
      ]
     },
     "execution_count": 121,
     "metadata": {},
     "output_type": "execute_result"
    }
   ],
   "source": [
    "df['height'].nlargest(3) # 키 큰 사람 순서대로 3명 데이트"
   ]
  },
  {
   "cell_type": "code",
   "execution_count": 122,
   "metadata": {},
   "outputs": [
    {
     "data": {
      "text/plain": [
       "155.75"
      ]
     },
     "execution_count": 122,
     "metadata": {},
     "output_type": "execute_result"
    }
   ],
   "source": [
    "df['height'].mean()"
   ]
  },
  {
   "cell_type": "code",
   "execution_count": 123,
   "metadata": {},
   "outputs": [
    {
     "data": {
      "text/plain": [
       "1246"
      ]
     },
     "execution_count": 123,
     "metadata": {},
     "output_type": "execute_result"
    }
   ],
   "source": [
    "df['height'].sum()"
   ]
  },
  {
   "cell_type": "code",
   "execution_count": 124,
   "metadata": {},
   "outputs": [
    {
     "data": {
      "text/plain": [
       "6"
      ]
     },
     "execution_count": 124,
     "metadata": {},
     "output_type": "execute_result"
    }
   ],
   "source": [
    "df['SW'].count()"
   ]
  },
  {
   "cell_type": "code",
   "execution_count": 125,
   "metadata": {},
   "outputs": [
    {
     "data": {
      "text/plain": [
       "array(['EN', 'JP', 'ID'], dtype=object)"
      ]
     },
     "execution_count": 125,
     "metadata": {},
     "output_type": "execute_result"
    }
   ],
   "source": [
    "df['club'].unique()"
   ]
  },
  {
   "cell_type": "code",
   "execution_count": 126,
   "metadata": {},
   "outputs": [
    {
     "data": {
      "text/plain": [
       "3"
      ]
     },
     "execution_count": 126,
     "metadata": {},
     "output_type": "execute_result"
    }
   ],
   "source": [
    "df['club'].nunique()"
   ]
  }
 ],
 "metadata": {
  "kernelspec": {
   "display_name": "nado",
   "language": "python",
   "name": "python3"
  },
  "language_info": {
   "codemirror_mode": {
    "name": "ipython",
    "version": 3
   },
   "file_extension": ".py",
   "mimetype": "text/x-python",
   "name": "python",
   "nbconvert_exporter": "python",
   "pygments_lexer": "ipython3",
   "version": "3.11.3"
  },
  "orig_nbformat": 4
 },
 "nbformat": 4,
 "nbformat_minor": 2
}
